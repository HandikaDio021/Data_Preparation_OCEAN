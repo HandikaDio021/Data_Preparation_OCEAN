{
 "cells": [
  {
   "cell_type": "markdown",
   "metadata": {},
   "source": [
    "# Personality Detection from Face Videos using Deep id\n",
    "Notebook ini berisi implementasi model untuk memprediksi trait kepribadian OCEAN (Openness, Conscientiousness, Extraversion, Agreeableness, Neuroticism) dari video wajah menggunakan Deepid dan LSTM."
   ]
  },
  {
   "cell_type": "markdown",
   "metadata": {},
   "source": [
    "## 1. Setup Awal"
   ]
  },
  {
   "cell_type": "code",
   "execution_count": 2,
   "metadata": {},
   "outputs": [
    {
     "name": "stdout",
     "output_type": "stream",
     "text": [
      "GPU Available: []\n"
     ]
    }
   ],
   "source": [
    "# Import library yang diperlukan\n",
    "import tensorflow as tf\n",
    "from tensorflow import keras\n",
    "from tensorflow.keras.optimizers import SGD\n",
    "from tensorflow.keras.callbacks import EarlyStopping, ModelCheckpoint\n",
    "import numpy as np\n",
    "import datetime\n",
    "import os\n",
    "from pathlib import Path\n",
    "from sklearn.metrics import mean_absolute_error\n",
    "\n",
    "# Konfigurasi untuk reproduktibilitas\n",
    "tf.random.set_seed(42)\n",
    "np.random.seed(42)\n",
    "\n",
    "# Cek ketersediaan GPU\n",
    "print(\"GPU Available:\", tf.config.list_physical_devices('GPU'))"
   ]
  },
  {
   "cell_type": "markdown",
   "metadata": {},
   "source": [
    "## 2. Memuat Dataset"
   ]
  },
  {
   "cell_type": "code",
   "execution_count": 6,
   "metadata": {},
   "outputs": [
    {
     "data": {
      "text/plain": [
       "(<PrefetchDataset element_spec=(TensorSpec(shape=(None, 10, 55, 47, 3), dtype=tf.float32, name=None), TensorSpec(shape=(None, 5), dtype=tf.float32, name=None))>,\n",
       " <PrefetchDataset element_spec=(TensorSpec(shape=(None, 10, 55, 47, 3), dtype=tf.float32, name=None), TensorSpec(shape=(None, 5), dtype=tf.float32, name=None))>)"
      ]
     },
     "execution_count": 6,
     "metadata": {},
     "output_type": "execute_result"
    }
   ],
   "source": [
    "train_ds = tf.data.Dataset.load('data/videoface/train_ds') \\\n",
    "    .cache().shuffle(buffer_size=1000, seed=42).prefetch(buffer_size=tf.data.AUTOTUNE)\n",
    "\n",
    "valid_ds = tf.data.Dataset.load('data/videoface/val_ds') \\\n",
    "    .cache().shuffle(buffer_size=1000, seed=42).prefetch(buffer_size=tf.data.AUTOTUNE)\n",
    "\n",
    "train_ds, valid_ds"
   ]
  },
  {
   "cell_type": "markdown",
   "metadata": {},
   "source": [
    "## 3. Membangun Model Deep ID + LSTM"
   ]
  },
  {
   "cell_type": "code",
   "execution_count": 2,
   "metadata": {},
   "outputs": [
    {
     "name": "stdout",
     "output_type": "stream",
     "text": [
      "Model: \"DeepID\"\n",
      "__________________________________________________________________________________________________\n",
      " Layer (type)                   Output Shape         Param #     Connected to                     \n",
      "==================================================================================================\n",
      " input_1 (InputLayer)           [(None, 55, 47, 3)]  0           []                               \n",
      "                                                                                                  \n",
      " conv1 (Conv2D)                 (None, 52, 44, 20)   980         ['input_1[0][0]']                \n",
      "                                                                                                  \n",
      " pool1 (MaxPooling2D)           (None, 26, 22, 20)   0           ['conv1[0][0]']                  \n",
      "                                                                                                  \n",
      " dropout1 (Dropout)             (None, 26, 22, 20)   0           ['pool1[0][0]']                  \n",
      "                                                                                                  \n",
      " conv2 (Conv2D)                 (None, 24, 20, 40)   7240        ['dropout1[0][0]']               \n",
      "                                                                                                  \n",
      " pool2 (MaxPooling2D)           (None, 12, 10, 40)   0           ['conv2[0][0]']                  \n",
      "                                                                                                  \n",
      " dropout2 (Dropout)             (None, 12, 10, 40)   0           ['pool2[0][0]']                  \n",
      "                                                                                                  \n",
      " conv3 (Conv2D)                 (None, 10, 8, 60)    21660       ['dropout2[0][0]']               \n",
      "                                                                                                  \n",
      " pool3 (MaxPooling2D)           (None, 5, 4, 60)     0           ['conv3[0][0]']                  \n",
      "                                                                                                  \n",
      " dropout3 (Dropout)             (None, 5, 4, 60)     0           ['pool3[0][0]']                  \n",
      "                                                                                                  \n",
      " conv4 (Conv2D)                 (None, 4, 3, 80)     19280       ['dropout3[0][0]']               \n",
      "                                                                                                  \n",
      " flatten1 (Flatten)             (None, 1200)         0           ['dropout3[0][0]']               \n",
      "                                                                                                  \n",
      " flatten2 (Flatten)             (None, 960)          0           ['conv4[0][0]']                  \n",
      "                                                                                                  \n",
      " fc11 (Dense)                   (None, 160)          192160      ['flatten1[0][0]']               \n",
      "                                                                                                  \n",
      " fc12 (Dense)                   (None, 160)          153760      ['flatten2[0][0]']               \n",
      "                                                                                                  \n",
      " add (Add)                      (None, 160)          0           ['fc11[0][0]',                   \n",
      "                                                                  'fc12[0][0]']                   \n",
      "                                                                                                  \n",
      " deepid (Activation)            (None, 160)          0           ['add[0][0]']                    \n",
      "                                                                                                  \n",
      "==================================================================================================\n",
      "Total params: 395,080\n",
      "Trainable params: 0\n",
      "Non-trainable params: 395,080\n",
      "__________________________________________________________________________________________________\n",
      "1. input_1\n",
      "   Input shape: [(None, 55, 47, 3)]\n",
      "   Output shape: [(None, 55, 47, 3)]\n",
      "2. conv1\n",
      "   Input shape: (None, 55, 47, 3)\n",
      "   Output shape: (None, 52, 44, 20)\n",
      "3. pool1\n",
      "   Input shape: (None, 52, 44, 20)\n",
      "   Output shape: (None, 26, 22, 20)\n",
      "4. dropout1\n",
      "   Input shape: (None, 26, 22, 20)\n",
      "   Output shape: (None, 26, 22, 20)\n",
      "5. conv2\n",
      "   Input shape: (None, 26, 22, 20)\n",
      "   Output shape: (None, 24, 20, 40)\n",
      "6. pool2\n",
      "   Input shape: (None, 24, 20, 40)\n",
      "   Output shape: (None, 12, 10, 40)\n",
      "7. dropout2\n",
      "   Input shape: (None, 12, 10, 40)\n",
      "   Output shape: (None, 12, 10, 40)\n",
      "8. conv3\n",
      "   Input shape: (None, 12, 10, 40)\n",
      "   Output shape: (None, 10, 8, 60)\n",
      "9. pool3\n",
      "   Input shape: (None, 10, 8, 60)\n",
      "   Output shape: (None, 5, 4, 60)\n",
      "10. dropout3\n",
      "   Input shape: (None, 5, 4, 60)\n",
      "   Output shape: (None, 5, 4, 60)\n",
      "11. conv4\n",
      "   Input shape: (None, 5, 4, 60)\n",
      "   Output shape: (None, 4, 3, 80)\n",
      "12. flatten1\n",
      "   Input shape: (None, 5, 4, 60)\n",
      "   Output shape: (None, 1200)\n",
      "13. flatten2\n",
      "   Input shape: (None, 4, 3, 80)\n",
      "   Output shape: (None, 960)\n",
      "14. fc11\n",
      "   Input shape: (None, 1200)\n",
      "   Output shape: (None, 160)\n",
      "15. fc12\n",
      "   Input shape: (None, 960)\n",
      "   Output shape: (None, 160)\n",
      "16. add\n",
      "   Input shape: [(None, 160), (None, 160)]\n",
      "   Output shape: (None, 160)\n",
      "17. deepid\n",
      "   Input shape: (None, 160)\n",
      "   Output shape: (None, 160)\n"
     ]
    }
   ],
   "source": [
    "from models import model_deepid\n",
    "\n",
    "deepid = model_deepid()\n",
    "deepid.trainable = False\n",
    "deepid.summary()\n",
    "\n",
    "from tensorflow.keras.utils import plot_model\n",
    "plot_model(deepid, to_file='deepid_architecture.png', show_shapes=True, show_layer_names=True)\n",
    "\n",
    "from IPython.display import Image\n",
    "Image(filename='deepid_architecture.png')\n",
    "\n",
    "for i, layer in enumerate(deepid.layers):\n",
    "    print(f\"{i+1}. {layer.name}\")\n",
    "    print(f\"   Input shape: {layer.input_shape}\")\n",
    "    print(f\"   Output shape: {layer.output_shape}\")\n"
   ]
  },
  {
   "cell_type": "markdown",
   "metadata": {},
   "source": [
    "## 4. Build Model"
   ]
  },
  {
   "cell_type": "code",
   "execution_count": 3,
   "metadata": {},
   "outputs": [
    {
     "data": {
      "image/png": "[encoded data removed]",
      "text/plain": [
       "<IPython.core.display.Image object>"
      ]
     },
     "execution_count": 3,
     "metadata": {},
     "output_type": "execute_result"
    }
   ],
   "source": [
    "from tensorflow.keras import regularizers\n",
    "\n",
    "inputs = keras.layers.Input(shape=(10,55,47,3), name='Input')\n",
    "\n",
    "# Preprocessing\n",
    "x = keras.layers.TimeDistributed(keras.layers.Rescaling(scale=1./255.0), name='Rescaling')(inputs)\n",
    "\n",
    "# OpenFace feature extractor (tetap dibekukan)\n",
    "deepid.trainable = False\n",
    "x = keras.layers.TimeDistributed(deepid, name='deepid')(x)\n",
    "\n",
    "# LSTM layers\n",
    "x = keras.layers.LSTM(units=160, return_sequences=True)(x)\n",
    "x = keras.layers.LSTM(units=64)(x)\n",
    "\n",
    "# Dense + Dropout + Regularization\n",
    "x = keras.layers.Dense(1024, activation='relu', kernel_regularizer=regularizers.l2(0.01))(x)\n",
    "x = keras.layers.Dropout(0.3)(x)\n",
    "\n",
    "x = keras.layers.Dense(512, activation='relu', kernel_regularizer=regularizers.l2(0.01))(x)\n",
    "x = keras.layers.Dropout(0.3)(x)\n",
    "\n",
    "x = keras.layers.Dense(256, activation='relu', kernel_regularizer=regularizers.l2(0.01))(x)\n",
    "x = keras.layers.Dropout(0.5)(x)\n",
    "\n",
    "# Output\n",
    "x = keras.layers.Dense(5, activation='sigmoid')(x)\n",
    "\n",
    "# Build model\n",
    "model = keras.models.Model(inputs=inputs, outputs=x)\n",
    "keras.utils.plot_model(model, show_shapes=True)"
   ]
  },
  {
   "cell_type": "markdown",
   "metadata": {},
   "source": [
    "## 5. Compile Model"
   ]
  },
  {
   "cell_type": "code",
   "execution_count": null,
   "metadata": {},
   "outputs": [],
   "source": [
    "t = datetime.datetime.now().strftime(\"%m%d_%H%M%S\")\n",
    "\n",
    "optimizer = keras.optimizers.Adam()\n",
    "#optimizer = keras.optimizers.SGD()\n",
    "#optimizer = keras.optimizers.RMSprop()\n",
    "\n",
    "def acc(y_true, y_pred):\n",
    "    mae = tf.reduce_mean(tf.abs(y_true - y_pred))\n",
    "    accuracy = (1-mae)*100\n",
    "    \n",
    "    return accuracy\n",
    "\n",
    "def loss(y_true, y_pred):\n",
    "    return tf.reduce_mean(tf.abs(y_true - y_pred)) * 100\n",
    "\n",
    "early_stopping = keras.callbacks.EarlyStopping(patience=10, verbose=0)\n",
    "check_point    = keras.callbacks.ModelCheckpoint(filepath='./weights/face/'+str(t)+'/face.t5',\n",
    "                            monitor='val_acc',\n",
    "                            mode='max',\n",
    "                            save_best_only=True,\n",
    "                            save_weights_only=True,\n",
    "                            verbose=0)\n",
    "\n",
    "model.compile(loss=loss,optimizer=optimizer, metrics=[acc]) #optimizer=optimizer"
   ]
  },
  {
   "cell_type": "markdown",
   "metadata": {},
   "source": [
    "## 6. Training"
   ]
  },
  {
   "cell_type": "code",
   "execution_count": 30,
   "metadata": {},
   "outputs": [
    {
     "name": "stdout",
     "output_type": "stream",
     "text": [
      "Epoch 1/100\n",
      "1/1 [==============================] - 7s 7s/step - loss: 7.9983 - acc: 99.9999 - val_loss: 6.8555 - val_acc: 100.0000\n",
      "Epoch 2/100\n",
      "1/1 [==============================] - 0s 88ms/step - loss: 6.8555 - acc: 100.0000 - val_loss: 6.1315 - val_acc: 100.0000\n",
      "Epoch 3/100\n",
      "1/1 [==============================] - 0s 86ms/step - loss: 6.1315 - acc: 100.0000 - val_loss: 5.5839 - val_acc: 100.0000\n",
      "Epoch 4/100\n",
      "1/1 [==============================] - 0s 106ms/step - loss: 5.5846 - acc: 99.9992 - val_loss: 5.1369 - val_acc: 100.0000\n",
      "Epoch 5/100\n",
      "1/1 [==============================] - 0s 94ms/step - loss: 5.1379 - acc: 99.9990 - val_loss: 4.7559 - val_acc: 100.0000\n",
      "Epoch 6/100\n",
      "1/1 [==============================] - 0s 110ms/step - loss: 4.7559 - acc: 100.0000 - val_loss: 4.4209 - val_acc: 100.0000\n",
      "Epoch 7/100\n",
      "1/1 [==============================] - 0s 96ms/step - loss: 4.4211 - acc: 99.9998 - val_loss: 4.1229 - val_acc: 100.0000\n",
      "Epoch 8/100\n",
      "1/1 [==============================] - 0s 97ms/step - loss: 4.1229 - acc: 99.9999 - val_loss: 3.8539 - val_acc: 99.9999\n",
      "Epoch 9/100\n",
      "1/1 [==============================] - 0s 90ms/step - loss: 3.8539 - acc: 100.0000 - val_loss: 3.6090 - val_acc: 99.9998\n",
      "Epoch 10/100\n",
      "1/1 [==============================] - 0s 99ms/step - loss: 3.6126 - acc: 99.9962 - val_loss: 3.3882 - val_acc: 100.0000\n",
      "Epoch 11/100\n",
      "1/1 [==============================] - 0s 95ms/step - loss: 3.3882 - acc: 100.0000 - val_loss: 3.1796 - val_acc: 99.9999\n",
      "Epoch 12/100\n",
      "1/1 [==============================] - 0s 95ms/step - loss: 3.1809 - acc: 99.9987 - val_loss: 2.9880 - val_acc: 99.9999\n",
      "Epoch 13/100\n",
      "1/1 [==============================] - 0s 99ms/step - loss: 2.9884 - acc: 99.9996 - val_loss: 2.8085 - val_acc: 99.9999\n",
      "Epoch 14/100\n",
      "1/1 [==============================] - 0s 97ms/step - loss: 2.8104 - acc: 99.9979 - val_loss: 2.6430 - val_acc: 99.9999\n",
      "Epoch 15/100\n",
      "1/1 [==============================] - 0s 98ms/step - loss: 2.6441 - acc: 99.9988 - val_loss: 2.4864 - val_acc: 99.9999\n",
      "Epoch 16/100\n",
      "1/1 [==============================] - 0s 95ms/step - loss: 2.4865 - acc: 99.9998 - val_loss: 2.3386 - val_acc: 99.9996\n",
      "Epoch 17/100\n",
      "1/1 [==============================] - 0s 109ms/step - loss: 2.3388 - acc: 99.9994 - val_loss: 2.2003 - val_acc: 99.9995\n",
      "Epoch 18/100\n",
      "1/1 [==============================] - 0s 100ms/step - loss: 2.2002 - acc: 99.9996 - val_loss: 2.0704 - val_acc: 99.9988\n",
      "Epoch 19/100\n",
      "1/1 [==============================] - 0s 101ms/step - loss: 2.0705 - acc: 99.9987 - val_loss: 1.9484 - val_acc: 99.9991\n",
      "Epoch 20/100\n",
      "1/1 [==============================] - 0s 151ms/step - loss: 1.9502 - acc: 99.9973 - val_loss: 1.8345 - val_acc: 99.9997\n",
      "Epoch 21/100\n",
      "1/1 [==============================] - 0s 152ms/step - loss: 1.8351 - acc: 99.9991 - val_loss: 1.7248 - val_acc: 99.9994\n",
      "Epoch 22/100\n",
      "1/1 [==============================] - 0s 126ms/step - loss: 1.7249 - acc: 99.9993 - val_loss: 1.6215 - val_acc: 99.9989\n",
      "Epoch 23/100\n",
      "1/1 [==============================] - 0s 161ms/step - loss: 1.6220 - acc: 99.9984 - val_loss: 1.5246 - val_acc: 99.9992\n",
      "Epoch 24/100\n",
      "1/1 [==============================] - 0s 127ms/step - loss: 1.5243 - acc: 99.9995 - val_loss: 1.4328 - val_acc: 99.9975\n",
      "Epoch 25/100\n",
      "1/1 [==============================] - 0s 248ms/step - loss: 1.4395 - acc: 99.9908 - val_loss: 1.3533 - val_acc: 100.0000\n",
      "Epoch 26/100\n",
      "1/1 [==============================] - 0s 131ms/step - loss: 1.3533 - acc: 100.0000 - val_loss: 1.2678 - val_acc: 99.9997\n",
      "Epoch 27/100\n",
      "1/1 [==============================] - 0s 132ms/step - loss: 1.2689 - acc: 99.9987 - val_loss: 1.1897 - val_acc: 99.9996\n",
      "Epoch 28/100\n",
      "1/1 [==============================] - 0s 100ms/step - loss: 1.1950 - acc: 99.9943 - val_loss: 1.1216 - val_acc: 100.0000\n",
      "Epoch 29/100\n",
      "1/1 [==============================] - 0s 107ms/step - loss: 1.1217 - acc: 99.9998 - val_loss: 1.0487 - val_acc: 99.9997\n",
      "Epoch 30/100\n",
      "1/1 [==============================] - 0s 102ms/step - loss: 1.0493 - acc: 99.9991 - val_loss: 0.9820 - val_acc: 99.9993\n",
      "Epoch 31/100\n",
      "1/1 [==============================] - 0s 104ms/step - loss: 0.9837 - acc: 99.9976 - val_loss: 0.9210 - val_acc: 99.9994\n",
      "Epoch 32/100\n",
      "1/1 [==============================] - 0s 104ms/step - loss: 0.9308 - acc: 99.9896 - val_loss: 0.8717 - val_acc: 100.0000\n",
      "Epoch 33/100\n",
      "1/1 [==============================] - 0s 95ms/step - loss: 0.8718 - acc: 99.9998 - val_loss: 0.8127 - val_acc: 99.9998\n",
      "Epoch 34/100\n",
      "1/1 [==============================] - 0s 97ms/step - loss: 0.8132 - acc: 99.9993 - val_loss: 0.7589 - val_acc: 99.9994\n",
      "Epoch 35/100\n",
      "1/1 [==============================] - 0s 97ms/step - loss: 0.7883 - acc: 99.9699 - val_loss: 0.7304 - val_acc: 100.0000\n",
      "Epoch 36/100\n",
      "1/1 [==============================] - 0s 102ms/step - loss: 0.7305 - acc: 99.9999 - val_loss: 0.6803 - val_acc: 100.0000\n",
      "Epoch 37/100\n",
      "1/1 [==============================] - 0s 101ms/step - loss: 0.6804 - acc: 99.9999 - val_loss: 0.6338 - val_acc: 100.0000\n",
      "Epoch 38/100\n",
      "1/1 [==============================] - 0s 106ms/step - loss: 0.6338 - acc: 99.9999 - val_loss: 0.5904 - val_acc: 99.9997\n",
      "Epoch 39/100\n",
      "1/1 [==============================] - 0s 104ms/step - loss: 0.5933 - acc: 99.9968 - val_loss: 0.5533 - val_acc: 99.9998\n",
      "Epoch 40/100\n",
      "1/1 [==============================] - 0s 106ms/step - loss: 0.5564 - acc: 99.9967 - val_loss: 0.5183 - val_acc: 99.9999\n",
      "Epoch 41/100\n",
      "1/1 [==============================] - 0s 124ms/step - loss: 0.5234 - acc: 99.9948 - val_loss: 0.4875 - val_acc: 100.0000\n",
      "Epoch 42/100\n",
      "1/1 [==============================] - 0s 104ms/step - loss: 0.4876 - acc: 99.9999 - val_loss: 0.4519 - val_acc: 99.9997\n",
      "Epoch 43/100\n",
      "1/1 [==============================] - 0s 100ms/step - loss: 0.4554 - acc: 99.9962 - val_loss: 0.4239 - val_acc: 99.9998\n",
      "Epoch 44/100\n",
      "1/1 [==============================] - 0s 103ms/step - loss: 0.4281 - acc: 99.9956 - val_loss: 0.3983 - val_acc: 99.9999\n",
      "Epoch 45/100\n",
      "1/1 [==============================] - 0s 103ms/step - loss: 0.3993 - acc: 99.9990 - val_loss: 0.3691 - val_acc: 99.9998\n",
      "Epoch 46/100\n",
      "1/1 [==============================] - 0s 96ms/step - loss: 0.3769 - acc: 99.9919 - val_loss: 0.3507 - val_acc: 100.0000\n",
      "Epoch 47/100\n",
      "1/1 [==============================] - 0s 103ms/step - loss: 0.3512 - acc: 99.9995 - val_loss: 0.3235 - val_acc: 99.9997\n",
      "Epoch 48/100\n",
      "1/1 [==============================] - 0s 107ms/step - loss: 0.3239 - acc: 99.9993 - val_loss: 0.2996 - val_acc: 99.9989\n",
      "Epoch 49/100\n",
      "1/1 [==============================] - 0s 100ms/step - loss: 0.2994 - acc: 99.9991 - val_loss: 0.2792 - val_acc: 99.9968\n",
      "Epoch 50/100\n",
      "1/1 [==============================] - 0s 101ms/step - loss: 0.2985 - acc: 99.9775 - val_loss: 0.2785 - val_acc: 100.0000\n",
      "Epoch 51/100\n",
      "1/1 [==============================] - 0s 98ms/step - loss: 0.2785 - acc: 100.0000 - val_loss: 0.2549 - val_acc: 100.0000\n",
      "Epoch 52/100\n",
      "1/1 [==============================] - 0s 102ms/step - loss: 0.2554 - acc: 99.9995 - val_loss: 0.2346 - val_acc: 99.9999\n",
      "Epoch 53/100\n",
      "1/1 [==============================] - 0s 104ms/step - loss: 0.2371 - acc: 99.9974 - val_loss: 0.2189 - val_acc: 99.9999\n",
      "Epoch 54/100\n",
      "1/1 [==============================] - 0s 97ms/step - loss: 0.2189 - acc: 99.9999 - val_loss: 0.2013 - val_acc: 99.9990\n",
      "Epoch 55/100\n",
      "1/1 [==============================] - 0s 103ms/step - loss: 0.2041 - acc: 99.9961 - val_loss: 0.1898 - val_acc: 99.9996\n",
      "Epoch 56/100\n",
      "1/1 [==============================] - 0s 96ms/step - loss: 0.1911 - acc: 99.9983 - val_loss: 0.1763 - val_acc: 99.9992\n",
      "Epoch 57/100\n",
      "1/1 [==============================] - 0s 99ms/step - loss: 0.1875 - acc: 99.9880 - val_loss: 0.1760 - val_acc: 100.0000\n",
      "Epoch 58/100\n",
      "1/1 [==============================] - 0s 93ms/step - loss: 0.1760 - acc: 100.0000 - val_loss: 0.1593 - val_acc: 99.9998\n",
      "Epoch 59/100\n",
      "1/1 [==============================] - 0s 97ms/step - loss: 0.1604 - acc: 99.9987 - val_loss: 0.1470 - val_acc: 99.9995\n",
      "Epoch 60/100\n",
      "1/1 [==============================] - 0s 118ms/step - loss: 0.1491 - acc: 99.9974 - val_loss: 0.1380 - val_acc: 99.9996\n",
      "Epoch 61/100\n",
      "1/1 [==============================] - 0s 101ms/step - loss: 0.1385 - acc: 99.9991 - val_loss: 0.1276 - val_acc: 99.9982\n",
      "Epoch 62/100\n",
      "1/1 [==============================] - 0s 95ms/step - loss: 0.1377 - acc: 99.9882 - val_loss: 0.1340 - val_acc: 100.0000\n",
      "Epoch 63/100\n",
      "1/1 [==============================] - 0s 102ms/step - loss: 0.1340 - acc: 100.0000 - val_loss: 0.1191 - val_acc: 99.9999\n",
      "Epoch 64/100\n",
      "1/1 [==============================] - 0s 99ms/step - loss: 0.1200 - acc: 99.9990 - val_loss: 0.1087 - val_acc: 99.9996\n",
      "Epoch 65/100\n",
      "1/1 [==============================] - 0s 99ms/step - loss: 0.1135 - acc: 99.9948 - val_loss: 0.1064 - val_acc: 99.9999\n",
      "Epoch 66/100\n",
      "1/1 [==============================] - 0s 93ms/step - loss: 0.1067 - acc: 99.9996 - val_loss: 0.0958 - val_acc: 99.9993\n",
      "Epoch 67/100\n",
      "1/1 [==============================] - 0s 97ms/step - loss: 0.0974 - acc: 99.9977 - val_loss: 0.0903 - val_acc: 99.9992\n",
      "Epoch 68/100\n",
      "1/1 [==============================] - 0s 102ms/step - loss: 0.0917 - acc: 99.9977 - val_loss: 0.0851 - val_acc: 99.9990\n",
      "Epoch 69/100\n",
      "1/1 [==============================] - 0s 95ms/step - loss: 0.0883 - acc: 99.9957 - val_loss: 0.0843 - val_acc: 99.9999\n",
      "Epoch 70/100\n",
      "1/1 [==============================] - 0s 102ms/step - loss: 0.0846 - acc: 99.9995 - val_loss: 0.0760 - val_acc: 99.9982\n",
      "Epoch 71/100\n",
      "1/1 [==============================] - 0s 97ms/step - loss: 0.0839 - acc: 99.9903 - val_loss: 0.0844 - val_acc: 100.0000\n",
      "Epoch 72/100\n",
      "1/1 [==============================] - 0s 102ms/step - loss: 0.0844 - acc: 100.0000 - val_loss: 0.0725 - val_acc: 99.9997\n",
      "Epoch 73/100\n",
      "1/1 [==============================] - 0s 95ms/step - loss: 0.0731 - acc: 99.9992 - val_loss: 0.0663 - val_acc: 99.9984\n",
      "Epoch 74/100\n",
      "1/1 [==============================] - 0s 95ms/step - loss: 0.0685 - acc: 99.9962 - val_loss: 0.0653 - val_acc: 99.9996\n",
      "Epoch 75/100\n",
      "1/1 [==============================] - 0s 97ms/step - loss: 0.0654 - acc: 99.9995 - val_loss: 0.0613 - val_acc: 99.9955\n",
      "Epoch 76/100\n",
      "1/1 [==============================] - 0s 92ms/step - loss: 0.0823 - acc: 99.9744 - val_loss: 0.0773 - val_acc: 100.0000\n",
      "Epoch 77/100\n",
      "1/1 [==============================] - 0s 101ms/step - loss: 0.0773 - acc: 100.0000 - val_loss: 0.0670 - val_acc: 100.0000\n",
      "Epoch 78/100\n",
      "1/1 [==============================] - 0s 125ms/step - loss: 0.0676 - acc: 99.9993 - val_loss: 0.0604 - val_acc: 99.9999\n",
      "Epoch 79/100\n",
      "1/1 [==============================] - 0s 106ms/step - loss: 0.0609 - acc: 99.9993 - val_loss: 0.0552 - val_acc: 99.9993\n",
      "Epoch 80/100\n",
      "1/1 [==============================] - 0s 101ms/step - loss: 0.0559 - acc: 99.9986 - val_loss: 0.0523 - val_acc: 99.9986\n",
      "Epoch 81/100\n",
      "1/1 [==============================] - 0s 106ms/step - loss: 0.0542 - acc: 99.9966 - val_loss: 0.0518 - val_acc: 99.9994\n",
      "Epoch 82/100\n",
      "1/1 [==============================] - 0s 102ms/step - loss: 0.0523 - acc: 99.9989 - val_loss: 0.0489 - val_acc: 99.9980\n",
      "Epoch 83/100\n",
      "1/1 [==============================] - 0s 103ms/step - loss: 0.0671 - acc: 99.9799 - val_loss: 0.0670 - val_acc: 100.0000\n",
      "Epoch 84/100\n",
      "1/1 [==============================] - 0s 102ms/step - loss: 0.0670 - acc: 100.0000 - val_loss: 0.0576 - val_acc: 100.0000\n",
      "Epoch 85/100\n",
      "1/1 [==============================] - 0s 119ms/step - loss: 0.0577 - acc: 99.9999 - val_loss: 0.0510 - val_acc: 99.9999\n",
      "Epoch 86/100\n",
      "1/1 [==============================] - 0s 225ms/step - loss: 0.0514 - acc: 99.9995 - val_loss: 0.0465 - val_acc: 99.9994\n",
      "Epoch 87/100\n",
      "1/1 [==============================] - 0s 107ms/step - loss: 0.0464 - acc: 99.9994 - val_loss: 0.0443 - val_acc: 99.9973\n",
      "Epoch 88/100\n",
      "1/1 [==============================] - 0s 102ms/step - loss: 0.0602 - acc: 99.9814 - val_loss: 0.0588 - val_acc: 100.0000\n",
      "Epoch 89/100\n",
      "1/1 [==============================] - 0s 101ms/step - loss: 0.0588 - acc: 100.0000 - val_loss: 0.0510 - val_acc: 100.0000\n",
      "Epoch 90/100\n",
      "1/1 [==============================] - 0s 104ms/step - loss: 0.0511 - acc: 99.9999 - val_loss: 0.0456 - val_acc: 99.9997\n",
      "Epoch 91/100\n",
      "1/1 [==============================] - 0s 99ms/step - loss: 0.0612 - acc: 99.9841 - val_loss: 0.0584 - val_acc: 100.0000\n",
      "Epoch 92/100\n",
      "1/1 [==============================] - 0s 98ms/step - loss: 0.0584 - acc: 100.0000 - val_loss: 0.0508 - val_acc: 100.0000\n",
      "Epoch 93/100\n",
      "1/1 [==============================] - 0s 103ms/step - loss: 0.0508 - acc: 100.0000 - val_loss: 0.0453 - val_acc: 99.9998\n",
      "Epoch 94/100\n",
      "1/1 [==============================] - 0s 104ms/step - loss: 0.0453 - acc: 99.9998 - val_loss: 0.0416 - val_acc: 99.9989\n",
      "Epoch 95/100\n",
      "1/1 [==============================] - 0s 102ms/step - loss: 0.0413 - acc: 99.9993 - val_loss: 0.0405 - val_acc: 99.9969\n",
      "Epoch 96/100\n",
      "1/1 [==============================] - 0s 122ms/step - loss: 0.0447 - acc: 99.9927 - val_loss: 0.0453 - val_acc: 99.9999\n",
      "Epoch 97/100\n",
      "1/1 [==============================] - 0s 98ms/step - loss: 0.0456 - acc: 99.9996 - val_loss: 0.0405 - val_acc: 99.9994\n",
      "Epoch 98/100\n",
      "1/1 [==============================] - 0s 104ms/step - loss: 0.0403 - acc: 99.9996 - val_loss: 0.0388 - val_acc: 99.9970\n",
      "Epoch 99/100\n",
      "1/1 [==============================] - 0s 101ms/step - loss: 0.0380 - acc: 99.9977 - val_loss: 0.0381 - val_acc: 99.9976\n",
      "Epoch 100/100\n",
      "1/1 [==============================] - 0s 109ms/step - loss: 0.0382 - acc: 99.9974 - val_loss: 0.0377 - val_acc: 99.9984\n"
     ]
    }
   ],
   "source": [
    "history = model.fit(train_ds, validation_data=valid_ds, batch_size=8, epochs=100, callbacks=[early_stopping, check_point])\n",
    "# 0613_104743 - 15.2s 5 data"
   ]
  },
  {
   "cell_type": "markdown",
   "metadata": {},
   "source": [
    "## 7. Evaluation"
   ]
  },
  {
   "cell_type": "code",
   "execution_count": 3,
   "metadata": {},
   "outputs": [
    {
     "ename": "NameError",
     "evalue": "name 'model' is not defined",
     "output_type": "error",
     "traceback": [
      "\u001b[1;31m---------------------------------------------------------------------------\u001b[0m",
      "\u001b[1;31mNameError\u001b[0m                                 Traceback (most recent call last)",
      "Cell \u001b[1;32mIn[3], line 1\u001b[0m\n\u001b[1;32m----> 1\u001b[0m \u001b[43mmodel\u001b[49m\u001b[38;5;241m.\u001b[39mload_weights(\u001b[38;5;124m'\u001b[39m\u001b[38;5;124m./weights/face/0613_124447/face.t5\u001b[39m\u001b[38;5;124m'\u001b[39m)\n",
      "\u001b[1;31mNameError\u001b[0m: name 'model' is not defined"
     ]
    }
   ],
   "source": [
    "model.load_weights('./weights/face/0613_124447/face.t5')"
   ]
  },
  {
   "cell_type": "code",
   "execution_count": 23,
   "metadata": {},
   "outputs": [],
   "source": [
    "def acc_per_trait_and_mean(y_true, y_pred):\n",
    "    mae = mean_absolute_error(y_true, y_pred, multioutput='raw_values')\n",
    "    acc_per_trait = (1 - mae) * 100\n",
    "    mean_acc = (1 - np.mean(mae)) * 100\n",
    "    return acc_per_trait, mean_acc"
   ]
  },
  {
   "cell_type": "markdown",
   "metadata": {},
   "source": [
    "Training data"
   ]
  },
  {
   "cell_type": "code",
   "execution_count": 24,
   "metadata": {},
   "outputs": [
    {
     "name": "stdout",
     "output_type": "stream",
     "text": [
      "1/1 [==============================] - 0s 57ms/step - loss: 7.9982 - acc: 100.0000\n"
     ]
    },
    {
     "data": {
      "text/plain": [
       "<function __main__.acc(y_true, y_pred)>"
      ]
     },
     "execution_count": 24,
     "metadata": {},
     "output_type": "execute_result"
    }
   ],
   "source": [
    "train_ds = tf.data.Dataset.load('data/videoface/train_ds') \n",
    "loss, mae = model.evaluate(train_ds)\n",
    "acc"
   ]
  },
  {
   "cell_type": "code",
   "execution_count": 25,
   "metadata": {},
   "outputs": [
    {
     "name": "stdout",
     "output_type": "stream",
     "text": [
      "1/1 [==============================] - 1s 913ms/step\n"
     ]
    },
    {
     "data": {
      "text/plain": [
       "(array([ 99.999985, 100.      ,  99.99999 , 100.      , 100.      ],\n",
       "       dtype=float32),\n",
       " 99.99999501668633)"
      ]
     },
     "execution_count": 25,
     "metadata": {},
     "output_type": "execute_result"
    }
   ],
   "source": [
    "y_true = np.concatenate([y for x,y in train_ds])\n",
    "y_pred = model.predict(train_ds)\n",
    "\n",
    "acc_per_trait, mean_acc = acc_per_trait_and_mean(y_true, y_pred)\n",
    "\n",
    "acc_per_trait, mean_acc\n"
   ]
  },
  {
   "cell_type": "markdown",
   "metadata": {},
   "source": [
    "Validation data"
   ]
  },
  {
   "cell_type": "code",
   "execution_count": 26,
   "metadata": {},
   "outputs": [
    {
     "name": "stdout",
     "output_type": "stream",
     "text": [
      "1/1 [==============================] - 0s 42ms/step - loss: 7.9981 - acc: 100.0000\n"
     ]
    },
    {
     "data": {
      "text/plain": [
       "<function __main__.acc(y_true, y_pred)>"
      ]
     },
     "execution_count": 26,
     "metadata": {},
     "output_type": "execute_result"
    }
   ],
   "source": [
    "valid_ds = tf.data.Dataset.load('data/videoface/val_ds') \n",
    "loss, mae = model.evaluate(valid_ds)\n",
    "acc"
   ]
  },
  {
   "cell_type": "code",
   "execution_count": 27,
   "metadata": {},
   "outputs": [
    {
     "name": "stdout",
     "output_type": "stream",
     "text": [
      "1/1 [==============================] - 0s 43ms/step\n"
     ]
    },
    {
     "data": {
      "text/plain": [
       "(array([ 99.99999, 100.     , 100.     , 100.     , 100.     ],\n",
       "       dtype=float32),\n",
       " 99.99999855733677)"
      ]
     },
     "execution_count": 27,
     "metadata": {},
     "output_type": "execute_result"
    }
   ],
   "source": [
    "y_true = np.concatenate([y for x,y in valid_ds])\n",
    "y_pred = model.predict(valid_ds)\n",
    "\n",
    "mae = mean_absolute_error(y_true, y_pred, multioutput='raw_values')\n",
    "(1-mae)*100, (1-np.mean(mae))*100"
   ]
  },
  {
   "cell_type": "markdown",
   "metadata": {},
   "source": [
    "Test data"
   ]
  },
  {
   "cell_type": "code",
   "execution_count": 28,
   "metadata": {},
   "outputs": [
    {
     "name": "stdout",
     "output_type": "stream",
     "text": [
      "1/1 [==============================] - 0s 39ms/step - loss: 7.9982 - acc: 100.0000\n"
     ]
    },
    {
     "data": {
      "text/plain": [
       "<function __main__.acc(y_true, y_pred)>"
      ]
     },
     "execution_count": 28,
     "metadata": {},
     "output_type": "execute_result"
    }
   ],
   "source": [
    "test_ds = tf.data.Dataset.load('data/videoface/test_ds')\n",
    "loss, mae = model.evaluate(test_ds)\n",
    "acc"
   ]
  },
  {
   "cell_type": "code",
   "execution_count": 18,
   "metadata": {},
   "outputs": [
    {
     "name": "stdout",
     "output_type": "stream",
     "text": [
      "1/1 [==============================] - 0s 46ms/step\n"
     ]
    },
    {
     "data": {
      "text/plain": [
       "(array([ 99.99996, 100.     ,  99.99999,  99.99999,  99.99999],\n",
       "       dtype=float32),\n",
       " 99.99998928422542)"
      ]
     },
     "execution_count": 18,
     "metadata": {},
     "output_type": "execute_result"
    }
   ],
   "source": [
    "y_true = np.concatenate([y for x,y in test_ds])\n",
    "y_pred = model.predict(test_ds)\n",
    "\n",
    "acc_per_trait, mean_acc = acc_per_trait_and_mean(y_true, y_pred)\n",
    "\n",
    "acc_per_trait, mean_acc"
   ]
  },
  {
   "cell_type": "markdown",
   "metadata": {},
   "source": [
    "## 8. History Graph"
   ]
  },
  {
   "cell_type": "code",
   "execution_count": null,
   "metadata": {},
   "outputs": [
    {
     "ename": "NameError",
     "evalue": "name 'history' is not defined",
     "output_type": "error",
     "traceback": [
      "\u001b[1;31m---------------------------------------------------------------------------\u001b[0m",
      "\u001b[1;31mNameError\u001b[0m                                 Traceback (most recent call last)",
      "Cell \u001b[1;32mIn[1], line 9\u001b[0m\n\u001b[0;32m      6\u001b[0m os\u001b[38;5;241m.\u001b[39mmakedirs(\u001b[38;5;124mf\u001b[39m\u001b[38;5;124m'\u001b[39m\u001b[38;5;124m./histories/\u001b[39m\u001b[38;5;132;01m{\u001b[39;00mt\u001b[38;5;132;01m}\u001b[39;00m\u001b[38;5;124m'\u001b[39m, exist_ok\u001b[38;5;241m=\u001b[39m\u001b[38;5;28;01mTrue\u001b[39;00m)\n\u001b[0;32m      8\u001b[0m \u001b[38;5;28;01mwith\u001b[39;00m \u001b[38;5;28mopen\u001b[39m(\u001b[38;5;124mf\u001b[39m\u001b[38;5;124m'\u001b[39m\u001b[38;5;124m./histories/\u001b[39m\u001b[38;5;132;01m{\u001b[39;00mt\u001b[38;5;132;01m}\u001b[39;00m\u001b[38;5;124m/face_histories.pkl\u001b[39m\u001b[38;5;124m'\u001b[39m, \u001b[38;5;124m'\u001b[39m\u001b[38;5;124mwb\u001b[39m\u001b[38;5;124m'\u001b[39m) \u001b[38;5;28;01mas\u001b[39;00m f:\n\u001b[1;32m----> 9\u001b[0m     pickle\u001b[38;5;241m.\u001b[39mdump(\u001b[43mhistory\u001b[49m\u001b[38;5;241m.\u001b[39mhistory, f)\n",
      "\u001b[1;31mNameError\u001b[0m: name 'history' is not defined"
     ]
    }
   ],
   "source": [
    "import os\n",
    "import pickle\n",
    "\n",
    "t = '0613_124447'\n",
    "\n",
    "os.makedirs(f'./histories/{t}', exist_ok=True)\n",
    "\n",
    "with open(f'./histories/{t}/face_histories.pkl', 'wb') as f:\n",
    "    pickle.dump(history.history, f)\n"
   ]
  },
  {
   "cell_type": "code",
   "execution_count": 16,
   "metadata": {},
   "outputs": [
    {
     "data": {
      "image/png": "[encoded data removed]",
      "text/plain": [
       "<Figure size 1200x500 with 2 Axes>"
      ]
     },
     "metadata": {},
     "output_type": "display_data"
    },
    {
     "name": "stdout",
     "output_type": "stream",
     "text": [
      "Final Training Loss: 0.8295 | Final Validation Loss: 0.7930\n",
      "Final Training Accuracy: 99.99% | Final Validation Accuracy: 100.00%\n"
     ]
    }
   ],
   "source": [
    "from utils import loss_val_graph\n",
    "\n",
    "# Tampilkan grafik training vs validation\n",
    "loss_val_graph(history)\n"
   ]
  },
  {
   "cell_type": "markdown",
   "metadata": {},
   "source": [
    "## README\n",
    "#### Notebook ini digunakan untuk memprediksi kepribadian berdasarkan citra wajah menggunakan pendekatan transfer learning model deep id. Model dilatih untuk menghasilkan skor kepribadian berdasarkan lima dimensi OCEAN (Openness, Conscientiousness, Extraversion, Agreeableness, Neuroticism).\n",
    "\n",
    "#### Hal yang perlu diperhatikan:\n",
    "1. Persiapkan data preparation yang diperlukan\n",
    "2. Instalasi library\n",
    "3. Sesuaikan Path dataset\n",
    "4. Pada tahap 7 (evaluation), rubah weights sesuai folder yang telah terbuat saat menjalankan training\n",
    "5. Pada tahap 8 (history graph), rubah timestamp sesuai pada folder weights sebelumnya"
   ]
  }
 ],
 "metadata": {
  "kernelspec": {
   "display_name": "baru",
   "language": "python",
   "name": "python3"
  },
  "language_info": {
   "codemirror_mode": {
    "name": "ipython",
    "version": 3
   },
   "file_extension": ".py",
   "mimetype": "text/x-python",
   "name": "python",
   "nbconvert_exporter": "python",
   "pygments_lexer": "ipython3",
   "version": "3.9.18"
  }
 },
 "nbformat": 4,
 "nbformat_minor": 4
}
